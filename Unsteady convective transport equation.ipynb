{
 "cells": [
  {
   "cell_type": "code",
   "execution_count": 1,
   "metadata": {},
   "outputs": [],
   "source": [
    "import matplotlib.pyplot as plt\n",
    "import numpy as np\n",
    "import seaborn as sns\n",
    "from mpl_toolkits.mplot3d import axes3d\n",
    "from math import cos, sin, exp\n",
    "\n",
    "%matplotlib inline  \n",
    "sns.set()"
   ]
  },
  {
   "cell_type": "markdown",
   "metadata": {},
   "source": [
    "## Examples"
   ]
  },
  {
   "cell_type": "code",
   "execution_count": 2,
   "metadata": {},
   "outputs": [],
   "source": [
    "l = 1\n",
    "t_inp = 1\n",
    "a = 1\n",
    "h = 0.1\n",
    "tau = 0.1\n",
    "mu_t = \"3 * t\"\n",
    "g_x = \"cos(3*x) - exp(2*x) + 2\""
   ]
  },
  {
   "cell_type": "code",
   "execution_count": 3,
   "metadata": {},
   "outputs": [],
   "source": [
    "# l = 2\n",
    "# t_inp = 2\n",
    "# a = 1\n",
    "# h = 0.2\n",
    "# tau = 0.2\n",
    "# mu_t = \"4 * t\"\n",
    "# g_x = \"exp(2*x) + sin(x**3)\""
   ]
  },
  {
   "cell_type": "code",
   "execution_count": 4,
   "metadata": {},
   "outputs": [],
   "source": [
    "l_am = int(l / h)\n",
    "t_am = int(t_inp / tau)\n",
    "\n",
    "x = []\n",
    "for i in range(l_am):\n",
    "    x.append (i * h)\n",
    "    \n",
    "t = []\n",
    "for i in range(t_am):\n",
    "    t.append (i * tau)\n",
    "    \n",
    "xs = [x] * t_am\n",
    "\n",
    "ys = []\n",
    "for i in range(t_am):\n",
    "    ys.append([t[i]] * l_am)"
   ]
  },
  {
   "cell_type": "code",
   "execution_count": 5,
   "metadata": {},
   "outputs": [],
   "source": [
    "def func_g(x):\n",
    "    return eval(g_x)\n",
    "\n",
    "\n",
    "def func_mu(t):\n",
    "    return eval(mu_t)"
   ]
  },
  {
   "cell_type": "code",
   "execution_count": 6,
   "metadata": {},
   "outputs": [],
   "source": [
    "def three_diagonal_matrix(diag_a, \n",
    "                          diag_b, \n",
    "                          diag_c, \n",
    "                          function):\n",
    "    n = len(diag_a)\n",
    "    y = [0] * n\n",
    "    \n",
    "    c, d = [diag_c[0] / diag_b[0]], [function[0] / diag_b[0]]\n",
    "\n",
    "    for i in range(1, n):\n",
    "        c.append(diag_c[i] / (diag_b[i] - diag_a[i] * c[i - 1]))\n",
    "        d.append((-diag_a[i] * d[i - 1] + function[i]) / (diag_b[i] - diag_a[i] * c[i - 1]))\n",
    "\n",
    "    y[-1] = d[-1]\n",
    "\n",
    "    for i in reversed(range(n - 1)):\n",
    "#     for i in range(0, n-1, -1):\n",
    "        y[i] = -c[i] * y[i + 1] + d[i]\n",
    "\n",
    "    return y"
   ]
  },
  {
   "cell_type": "code",
   "execution_count": 7,
   "metadata": {},
   "outputs": [],
   "source": [
    "def get_y_kh(l_am, t_am, a, tau, h):\n",
    "    \n",
    "    y = np.zeros((l_am, t_am))\n",
    "    \n",
    "    for i in range(l_am):\n",
    "        y[0][i] = func_g(x[i])\n",
    "\n",
    "    for i in range(t_am):\n",
    "        y[i][0] = func_mu(t[i])\n",
    "    \n",
    "    k_h = a * tau / h\n",
    "    \n",
    "    return y, k_h"
   ]
  },
  {
   "cell_type": "markdown",
   "metadata": {},
   "source": [
    "## Схема “Явний лівий кут”"
   ]
  },
  {
   "cell_type": "code",
   "execution_count": 8,
   "metadata": {},
   "outputs": [],
   "source": [
    "def equation_16(a, tau, h, l_am, t_am, x, t):\n",
    "    \n",
    "    y, k_h = get_y_kh(l_am, t_am, a, tau, h)\n",
    "    \n",
    "    for j in range(t_am - 1):\n",
    "        for k in range(l_am - 1):\n",
    "            y[j + 1][k] = -(k_h * y[j][k + 1]) + (k_h + 1) * y[j][k]\n",
    "\n",
    "    return y"
   ]
  },
  {
   "cell_type": "markdown",
   "metadata": {},
   "source": [
    "## Схема “Неявний лівий кут”"
   ]
  },
  {
   "cell_type": "code",
   "execution_count": 9,
   "metadata": {},
   "outputs": [],
   "source": [
    "def equation_21(a, tau, h, l_am, t_am, x, t):\n",
    "\n",
    "    y, k_h = get_y_kh(l_am, t_am, a, tau, h)\n",
    "    \n",
    "    for j in range(t_am - 1):\n",
    "        for k in range(l_am - 1):\n",
    "            y[j + 1][k + 1] = y[j + 1][k] - (y[j + 1][k] - y[j][k]) / k_h\n",
    "    return y"
   ]
  },
  {
   "cell_type": "markdown",
   "metadata": {},
   "source": [
    "## Явна схема з центральною різницею"
   ]
  },
  {
   "cell_type": "code",
   "execution_count": 10,
   "metadata": {},
   "outputs": [],
   "source": [
    "def equation_22(a, tau, h, l_am, t_am, x, t):\n",
    "    \n",
    "    y, k_h = get_y_kh(l_am, t_am, a, tau, h)\n",
    "    \n",
    "    for j in range(t_am - 1):\n",
    "        for k in range(1, l_am - 1):\n",
    "            y[j + 1][k] = y[j][k] - k_h * 0.5 * (y[j][k + 1] - y[j][k - 1])\n",
    "        y[j + 1][t_am - 1] = (k_h * (y[j + 1][l_am - 2] + y[j][l_am - 1])) / (1 + k_h)\n",
    "    return y"
   ]
  },
  {
   "cell_type": "code",
   "execution_count": 11,
   "metadata": {},
   "outputs": [],
   "source": [
    "def a_diagonal(coef):\n",
    "    y, k_h = get_y_kh(l_am, t_am, a, tau, h)\n",
    "    a_diag = np.zeros((2, ))\n",
    "    a_diag[1] = -k_h\n",
    "    return np.insert(a_diag, 1, np.full((l_am - 2, ), - coef * k_h), axis=0)"
   ]
  },
  {
   "cell_type": "code",
   "execution_count": 12,
   "metadata": {},
   "outputs": [],
   "source": [
    "def b_diagonal():\n",
    "    y, k_h = get_y_kh(l_am, t_am, a, tau, h)\n",
    "    b_diag = np.full((l_am - 1, ), 1)\n",
    "    return np.append(b_diag, 1 + k_h)"
   ]
  },
  {
   "cell_type": "code",
   "execution_count": 13,
   "metadata": {},
   "outputs": [],
   "source": [
    "def c_diagonal(coef):\n",
    "    y, k_h = get_y_kh(l_am, t_am, a, tau, h)\n",
    "    c_diag = np.zeros((2, ))\n",
    "    return np.insert(c_diag, 1, np.full((l_am - 2, ), coef * k_h))"
   ]
  },
  {
   "cell_type": "markdown",
   "metadata": {},
   "source": [
    "## Неявна схема з центральною різницею"
   ]
  },
  {
   "cell_type": "code",
   "execution_count": 14,
   "metadata": {},
   "outputs": [],
   "source": [
    "def equation_23(a, tau, h, l_am, t_am, x, t):\n",
    "    \n",
    "    y, k_h = get_y_kh(l_am, t_am, a, tau, h)\n",
    "    \n",
    "    # y_{i-1}\n",
    "    a_diag = a_diagonal(0.5)\n",
    "    # y_i\n",
    "    b_diag = b_diagonal()\n",
    "    # y_{i+1}\n",
    "    c_diag = c_diagonal(0.5)\n",
    "\n",
    "    for j in range(t_am - 1):\n",
    "        for i in range(len(y) - 1):\n",
    "            f = [y[j][i + 1] for i in range(len(y[0]) - 1)]\n",
    "            f.insert(0, y[j + 1][0])\n",
    "            f.append(y[j][-1])\n",
    "            \n",
    "        y[j + 1] = three_diagonal_matrix(a_diag,\n",
    "                                         b_diag,\n",
    "                                         c_diag,\n",
    "                                         f)\n",
    "    return y\n"
   ]
  },
  {
   "cell_type": "markdown",
   "metadata": {},
   "source": [
    "## Схема типу Кранка-Ніколсона"
   ]
  },
  {
   "cell_type": "code",
   "execution_count": 15,
   "metadata": {},
   "outputs": [],
   "source": [
    "def equation_24(a, tau, h, l_am, t_am, x, t):\n",
    "    \n",
    "    y, k_h = get_y_kh(l_am, t_am, a, tau, h)\n",
    "    # y_{i-1}\n",
    "    a_diag = a_diagonal(0.25)\n",
    "    # y_i\n",
    "    b_diag = b_diagonal()\n",
    "    # y_{i+1}\n",
    "    c_diag = c_diagonal(0.25)\n",
    "    \n",
    "    for j in range(t_am - 1):\n",
    "        f = []\n",
    "        for i in range(len(y[0]) - 2):\n",
    "            f.append(y[j][i + 1] - (0.25 * k_h) * (y[j][i + 2] - y[j][i]))\n",
    "        f.insert(0, y[j + 1][0])\n",
    "        f.append(y[j][-1])\n",
    "        y[j + 1] = three_diagonal_matrix(a_diag,\n",
    "                                         b_diag,\n",
    "                                         c_diag,\n",
    "                                         f)\n",
    "\n",
    "    return y"
   ]
  },
  {
   "cell_type": "markdown",
   "metadata": {},
   "source": [
    "## Аналітичний розв’язок"
   ]
  },
  {
   "cell_type": "code",
   "execution_count": 16,
   "metadata": {},
   "outputs": [],
   "source": [
    "def analytic(a, xs, ys, l_am, t_am):\n",
    "    y, k_h = get_y_kh(l_am, t_am, a, tau, h)\n",
    "\n",
    "    for j in range(t_am):\n",
    "        for k in range(l_am):\n",
    "            if xs[j][k] > a * ys[j][k]:\n",
    "                y[j][k] = func_g(xs[j][k] - a * ys[j][k])\n",
    "            else:\n",
    "                y[j][k] = func_mu(ys[j][k] - xs[j][k] / a)\n",
    "    return y"
   ]
  },
  {
   "cell_type": "markdown",
   "metadata": {},
   "source": [
    "## Отримання розв'язків за вказаними схемами"
   ]
  },
  {
   "cell_type": "code",
   "execution_count": 17,
   "metadata": {},
   "outputs": [],
   "source": [
    "z_1 = equation_16(a, tau, h, l_am, t_am, x, t)\n",
    "z_2 = equation_21(a, tau, h, l_am, t_am, x, t)\n",
    "z_3 = equation_22(a, tau, h, l_am, t_am, x, t)\n",
    "z_4 = equation_23(a, tau, h, l_am, t_am, x, t)\n",
    "z_5 = equation_24(a, tau, h, l_am, t_am, x, t)\n",
    "analytic_sol = analytic(a, xs, ys, l_am, t_am)"
   ]
  },
  {
   "cell_type": "markdown",
   "metadata": {},
   "source": [
    "## Побудова графіків"
   ]
  },
  {
   "cell_type": "code",
   "execution_count": 26,
   "metadata": {},
   "outputs": [
    {
     "data": {
      "image/png": "[encoded data removed]",
      "text/plain": [
       "<Figure size 432x288 with 1 Axes>"
      ]
     },
     "metadata": {
      "needs_background": "light"
     },
     "output_type": "display_data"
    }
   ],
   "source": [
    "fig = plt.figure()\n",
    "fig.figsize = (10, 10)\n",
    "\n",
    "import matplotlib as mpl\n",
    "mpl.rcParams['font.size'] = 15.0\n",
    "\n",
    "ax = fig.gca(projection='3d')\n",
    "plt.xticks(fontsize = 15)\n",
    "plt.yticks(fontsize = 15)\n",
    "ax.set_zticklabels(np.arange(-4, 3, 1), fontsize = 15)\n",
    "ax.plot_surface(xs, ys, z_1, rstride=1, cstride=1, linewidth=1, color='#46d1d6')\n",
    "plt.show()"
   ]
  },
  {
   "cell_type": "code",
   "execution_count": 24,
   "metadata": {},
   "outputs": [],
   "source": []
  },
  {
   "cell_type": "code",
   "execution_count": null,
   "metadata": {},
   "outputs": [],
   "source": []
  }
 ],
 "metadata": {
  "kernelspec": {
   "display_name": "Python 3",
   "language": "python",
   "name": "python3"
  },
  "language_info": {
   "codemirror_mode": {
    "name": "ipython",
    "version": 3
   },
   "file_extension": ".py",
   "mimetype": "text/x-python",
   "name": "python",
   "nbconvert_exporter": "python",
   "pygments_lexer": "ipython3",
   "version": "3.6.6"
  }
 },
 "nbformat": 4,
 "nbformat_minor": 2
}
