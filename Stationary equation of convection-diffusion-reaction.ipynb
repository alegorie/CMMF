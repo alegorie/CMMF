{
 "cells": [
  {
   "cell_type": "code",
   "execution_count": 1,
   "metadata": {},
   "outputs": [],
   "source": [
    "from matplotlib import pyplot as plt\n",
    "from math import sin, cos, exp, log, fabs\n",
    "from settings import q_x, k_x, v_x, mu0, mu1, f_x, l, n, analytic\n",
    "h = l / n"
   ]
  },
  {
   "cell_type": "code",
   "execution_count": 2,
   "metadata": {},
   "outputs": [],
   "source": [
    "def tridiagonal(diag_a, diag_b, diag_c, function):\n",
    "    n = len(diag_a)\n",
    "    y = [0] * n\n",
    "    \n",
    "    c, d = [], []\n",
    "\n",
    "    c.append(diag_c[0] / diag_b[0])\n",
    "    d.append(function[0] / diag_b[0])\n",
    "\n",
    "    for i in range(1, n):\n",
    "        c.append(diag_c[i] / (diag_b[i] - diag_a[i] * c[i - 1]))\n",
    "        d.append((-diag_a[i] * d[i - 1] + function[i]) / (diag_b[i] - diag_a[i] * c[i - 1]))\n",
    "\n",
    "    y[-1] = d[-1]\n",
    "\n",
    "    for i in reversed(range(n - 1)):\n",
    "        y[i] = -c[i] * y[i + 1] + d[i]\n",
    "\n",
    "    return y\n"
   ]
  },
  {
   "cell_type": "code",
   "execution_count": 3,
   "metadata": {},
   "outputs": [
    {
     "name": "stdout",
     "output_type": "stream",
     "text": [
      "2\n"
     ]
    }
   ],
   "source": [
    "print(l)"
   ]
  },
  {
   "cell_type": "code",
   "execution_count": 4,
   "metadata": {},
   "outputs": [],
   "source": [
    "def f_function(x):\n",
    "    return eval(str(f_x))\n",
    "\n",
    "\n",
    "def k_function(x):\n",
    "    return eval(str(k_x))\n",
    "\n",
    "\n",
    "def v_function(x):\n",
    "    return eval(str(v_x))\n",
    "\n",
    "\n",
    "def q_function(x):\n",
    "    return eval(str(q_x))\n",
    "\n",
    "\n",
    "def execute_analytic_function(x):\n",
    "    return eval(str(analytic))"
   ]
  },
  {
   "cell_type": "code",
   "execution_count": 5,
   "metadata": {},
   "outputs": [],
   "source": [
    "\n",
    "def build_first_matrix(n, h, x):\n",
    "    diag_a = [0]\n",
    "    diag_b = [1]\n",
    "    diag_c = [0]\n",
    "\n",
    "    for i in range(1, n - 1):\n",
    "        diag_a.append(v_function(x[i]) / (2 * h) - k_function(x[i] - h / 2) / (h ** 2))\n",
    "        diag_b.append(q_function(x[i]) + (k_function(x[i] - h / 2) + k_function(x[i] + h / 2)) / (h ** 2))\n",
    "        diag_c.append(-v_function(x[i] / (2 * h)) - (k_function(x[i] + h / 2)) / (h ** 2))\n",
    "\n",
    "    diag_a.append(0)\n",
    "    diag_b.append(1)\n",
    "    diag_c.append(0)\n",
    "\n",
    "    f = [f_function(x[i]) for i in range(1, n - 1)]\n",
    "    f.insert(0, mu0)\n",
    "    f.append(mu1)\n",
    "\n",
    "    return diag_a, diag_b, diag_c, f\n",
    "\n",
    "\n",
    "def build_second_matrix(n, h, x):\n",
    "    diag_a = [0]\n",
    "    diag_b = [1]\n",
    "    diag_c = [0]\n",
    "\n",
    "    v_minus = [0.5 * (v_function(x[i]) - fabs(v_function(x[i]))) for i in range(len(x))]\n",
    "    v_plus = [0.5 * (v_function(x[i]) + fabs(v_function(x[i]))) for i in range(len(x))]\n",
    "\n",
    "    k_minus = [k_function(x[i] - h / 2) for i in range(len(x))]\n",
    "    k_plus = [k_function(x[i] + h / 2) for i in range(len(x))]\n",
    "\n",
    "    for i in range(1, n - 1):\n",
    "        diag_a.append(k_minus[i] / h ** 2 - v_minus[i] * k_minus[i] / (k_function(x[i]) * h))\n",
    "        diag_b.append(-(k_minus[i] + k_plus[i]) / h ** 2 + v_minus[i] * k_minus[i] / (k_function(x[i]) * h) -\n",
    "                          v_plus[i] * k_plus[i] / (k_function(x[i]) * h) - q_function(x[i]))\n",
    "        diag_c.append(k_plus[i] / h ** 2 + v_plus[i] * k_plus[i] / (k_function(x[i]) * h))\n",
    "\n",
    "    diag_a.append(0)\n",
    "    diag_b.append(1)\n",
    "    diag_c.append(0)\n",
    "\n",
    "    f = [-f_function(x[i]) for i in range(1, n - 1)]\n",
    "    f.insert(0, mu0)\n",
    "    f.append(mu1)\n",
    "\n",
    "    return diag_a, diag_b, diag_c, f\n",
    "\n",
    "\n",
    "def build_third_matrix(n, h, x):\n",
    "    diag_a, diag_b, diag_c = [0], [1], [0]\n",
    "\n",
    "    r = [1 / (1 + h * fabs(v_function(x[i])) / (2 * k_function(x[i]))) for i in range(len(x))]\n",
    "    v_minus = [0.5 * (v_function(x[i]) - fabs(v_function(x[i]))) for i in range(len(x))]\n",
    "    v_plus = [0.5 * (v_function(x[i]) + fabs(v_function(x[i]))) for i in range(len(x))]\n",
    "\n",
    "    k_minus = [k_function(x[i] - h / 2) for i in range(len(x))]\n",
    "    k_plus = [k_function(x[i] + h / 2) for i in range(len(x))]\n",
    "\n",
    "    for i in range(1, n - 1):\n",
    "        diag_a.append(r[i] * k_minus[i] / h ** 2 - v_minus[i] * k_minus[i] / (k_function(x[i]) * h))\n",
    "        diag_b.append(r[i] * -(k_minus[i] + k_plus[i]) / h ** 2 + v_minus[i] * k_minus[i] / (k_function(x[i]) * h) -\n",
    "                          v_plus[i] * k_plus[i] / (k_function(x[i]) * h) - q_function(x[i]))\n",
    "        diag_c.append(r[i] * k_plus[i] / h ** 2 + v_plus[i] * k_plus[i] / (k_function(x[i]) * h))\n",
    "\n",
    "    diag_a.append(0)\n",
    "    diag_b.append(1)\n",
    "    diag_c.append(0)\n",
    "\n",
    "    f = [-f_function(x[i]) for i in range(1, n - 1)]\n",
    "    f.insert(0, mu0)\n",
    "    f.append(mu1)\n",
    "\n",
    "    return diag_a, diag_b, diag_c, f\n",
    "\n"
   ]
  },
  {
   "cell_type": "code",
   "execution_count": 6,
   "metadata": {},
   "outputs": [],
   "source": [
    "x = [h * i for i in range(n)]\n",
    "first_matrix = build_first_matrix(n, h, x)\n",
    "second_matrix = build_second_matrix(n, h, x)\n",
    "third_matrix = build_third_matrix(n, h, x)\n",
    "\n",
    "first_y = tridiagonal(*first_matrix)\n",
    "second_y = tridiagonal(*second_matrix)\n",
    "third_y = tridiagonal(*third_matrix)\n",
    "analytic = [execute_analytic_function(x[i]) for i in range(len(x))]"
   ]
  },
  {
   "cell_type": "code",
   "execution_count": 7,
   "metadata": {},
   "outputs": [
    {
     "data": {
      "image/png": "[encoded data removed]",
      "text/plain": [
       "<Figure size 432x288 with 1 Axes>"
      ]
     },
     "metadata": {
      "needs_background": "light"
     },
     "output_type": "display_data"
    }
   ],
   "source": [
    "p1, = plt.plot(x, first_y)\n",
    "plt.legend([p1], ['Схема 8'], loc=2)\n",
    "plt.show()\n"
   ]
  },
  {
   "cell_type": "code",
   "execution_count": 8,
   "metadata": {},
   "outputs": [
    {
     "data": {
      "image/png": "[encoded data removed]",
      "text/plain": [
       "<Figure size 432x288 with 1 Axes>"
      ]
     },
     "metadata": {
      "needs_background": "light"
     },
     "output_type": "display_data"
    }
   ],
   "source": [
    "# pyplot.legend([p1, p2, p3, p4], ['first schema', 'second schema', 'third schema', 'analytic'], loc=2)\n",
    "\n",
    "p2, = plt.plot(x, second_y)\n",
    "plt.legend([p2], ['Схема 13'], loc=2)\n",
    "plt.show()"
   ]
  },
  {
   "cell_type": "code",
   "execution_count": 9,
   "metadata": {},
   "outputs": [
    {
     "data": {
      "image/png": "[encoded data removed]",
      "text/plain": [
       "<Figure size 432x288 with 1 Axes>"
      ]
     },
     "metadata": {
      "needs_background": "light"
     },
     "output_type": "display_data"
    }
   ],
   "source": [
    "p3, = plt.plot(x, third_y)\n",
    "plt.legend([p3], ['Схема 16'], loc=2)\n",
    "plt.show()"
   ]
  },
  {
   "cell_type": "code",
   "execution_count": 10,
   "metadata": {},
   "outputs": [
    {
     "data": {
      "image/png": "[encoded data removed]",
      "text/plain": [
       "<Figure size 432x288 with 1 Axes>"
      ]
     },
     "metadata": {
      "needs_background": "light"
     },
     "output_type": "display_data"
    }
   ],
   "source": [
    "p4, = plt.plot(x, analytic)\n",
    "plt.legend([p4], [\"Аналітичний розв'зок\"], loc=2)\n",
    "plt.show()"
   ]
  },
  {
   "cell_type": "code",
   "execution_count": null,
   "metadata": {},
   "outputs": [],
   "source": []
  },
  {
   "cell_type": "code",
   "execution_count": null,
   "metadata": {},
   "outputs": [],
   "source": []
  }
 ],
 "metadata": {
  "kernelspec": {
   "display_name": "Python 3",
   "language": "python",
   "name": "python3"
  },
  "language_info": {
   "codemirror_mode": {
    "name": "ipython",
    "version": 3
   },
   "file_extension": ".py",
   "mimetype": "text/x-python",
   "name": "python",
   "nbconvert_exporter": "python",
   "pygments_lexer": "ipython3",
   "version": "3.6.6"
  }
 },
 "nbformat": 4,
 "nbformat_minor": 2
}
